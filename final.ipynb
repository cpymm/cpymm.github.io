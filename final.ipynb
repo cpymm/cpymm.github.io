{
 "cells": [
  {
   "cell_type": "code",
   "execution_count": null,
   "metadata": {},
   "outputs": [],
   "source": [
    "import pandas as pd\n",
    "import plotly.graph_objects as go\n",
    "import plotly.express as px\n",
    "from plotly.subplots import make_subplots\n",
    "\n",
    "CollegeScorecard_df_raw = pd.read_csv(\"ETL/generated_data/ScorecardData.csv\")\n",
    "scard_df = CollegeScorecard_df_raw.copy()\n",
    "scard_df = scard_df.rename(\n",
    "    columns={\n",
    "        \"student.size\": \"size\",\n",
    "        \"cost.tuition.in_state\": \"in_state_tuition\",\n",
    "        \"cost.tuition.out_of_state\": \"out_state_tuition\",\n",
    "        \"cost.avg_net_price.public\": \"public_net_price\",\n",
    "        \"cost.avg_net_price.private\": \"private_net_price\",\n",
    "        \"id\": \"ipeds_id\",\n",
    "        \"school.name\": \"name\",\n",
    "        \"school.carnegie_size_setting\": \"size_setting\",\n",
    "        \"school.zip\": \"zip\",\n",
    "        \"school.region_id\": \"region_id\",\n",
    "        \"school.locale\": \"locale\",\n",
    "        \"school.ownership\": \"ownership\"\n",
    "    }\n",
    ")\n",
    "\n",
    "scard_df[\"net_cost\"] = scard_df.apply(lambda row: \n",
    "            row[\"public_net_price\"] if (row[\"ownership\"] == 1) else row[\"private_net_price\"],\n",
    "        axis=1\n",
    ")\n",
    "\n",
    "\n",
    "usn_college_data = pd.read_csv(\"ETL/source_data/usnews_stripped.csv\")\n",
    "usn_top_100 = (usn_college_data[usn_college_data[\"2023\"] < 100])[[\"University Name\",\"IPEDS ID\", \"2023\"]]"
   ]
  },
  {
   "cell_type": "code",
   "execution_count": null,
   "metadata": {},
   "outputs": [],
   "source": [
    "fig = go.Figure()\n",
    "fig.add_trace(\n",
    "    go.Violin(\n",
    "        x=scard_df['year'], \n",
    "        y=scard_df['net_cost'],\n",
    "        box_visible=True,\n",
    "        meanline_visible=True\n",
    "    )\n",
    ")\n",
    "fig.show()"
   ]
  },
  {
   "cell_type": "code",
   "execution_count": null,
   "metadata": {},
   "outputs": [],
   "source": [
    "fig = go.Figure()\n",
    "fig.add_trace(\n",
    "    go.Violin(\n",
    "        x=scard_df['year'], \n",
    "        y=scard_df['in_state_tuition'],\n",
    "        box_visible=True,\n",
    "        meanline_visible=True\n",
    "    )\n",
    ")\n",
    "fig.show()"
   ]
  },
  {
   "cell_type": "code",
   "execution_count": null,
   "metadata": {},
   "outputs": [],
   "source": [
    "fig = go.Figure()\n",
    "fig.add_trace(\n",
    "    go.Violin(\n",
    "        x=scard_df['year'], \n",
    "        y=scard_df['out_state_tuition'],\n",
    "        box_visible=True,\n",
    "        meanline_visible=True\n",
    "    )\n",
    ")\n",
    "fig.show()"
   ]
  },
  {
   "cell_type": "code",
   "execution_count": null,
   "metadata": {},
   "outputs": [],
   "source": [
    "fig = px.scatter(scard_df, x=\"year\", y=\"in_state_tuition\", facet_col=\"ownership\")\n",
    "fig.show()\n"
   ]
  },
  {
   "cell_type": "code",
   "execution_count": null,
   "metadata": {},
   "outputs": [],
   "source": [
    "cpi_df = pd.read_csv(\"ETL/source_data/cpi_all.csv\").groupby(\"Year\")[\"Value\"].mean()\n",
    "scard_df[\"net_cost_adjusted\"] = scard_df.apply(lambda row: \n",
    "            (row[\"net_cost\"]/cpi_df.at[row[\"year\"]]) * 100,\n",
    "        axis=1\n",
    ")\n",
    "scard_df[\"in_tuition_adjusted\"] = scard_df.apply(lambda row: \n",
    "            (row[\"in_state_tuition\"]/cpi_df.at[row[\"year\"]]) * 100,\n",
    "        axis=1\n",
    ")\n",
    "scard_df[\"out_tuition_adjusted\"] = scard_df.apply(lambda row: \n",
    "            (row[\"out_state_tuition\"]/cpi_df.at[row[\"year\"]]) * 100,\n",
    "        axis=1\n",
    ")"
   ]
  },
  {
   "cell_type": "code",
   "execution_count": null,
   "metadata": {},
   "outputs": [],
   "source": [
    "fig = px.scatter(scard_df, x=\"year\", y=\"in_tuition_adjusted\", facet_col=\"ownership\")\n",
    "fig.show()"
   ]
  },
  {
   "cell_type": "code",
   "execution_count": null,
   "metadata": {},
   "outputs": [],
   "source": [
    "fig = px.scatter(scard_df, x=\"year\", y=\"out_tuition_adjusted\", facet_col=\"ownership\")\n",
    "fig.show()"
   ]
  }
 ],
 "metadata": {
  "kernelspec": {
   "display_name": "Python 3 (ipykernel)",
   "language": "python",
   "name": "python3"
  },
  "language_info": {
   "codemirror_mode": {
    "name": "ipython",
    "version": 3
   },
   "file_extension": ".py",
   "mimetype": "text/x-python",
   "name": "python",
   "nbconvert_exporter": "python",
   "pygments_lexer": "ipython3",
   "version": "3.7.0"
  },
  "vscode": {
   "interpreter": {
    "hash": "369f2c481f4da34e4445cda3fffd2e751bd1c4d706f27375911949ba6bb62e1c"
   }
  }
 },
 "nbformat": 4,
 "nbformat_minor": 4
}
