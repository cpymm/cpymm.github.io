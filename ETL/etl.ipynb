{
 "cells": [
  {
   "cell_type": "code",
   "execution_count": null,
   "metadata": {},
   "outputs": [],
   "source": [
    "import pandas as pd\n",
    "import plotly.graph_objects as go\n",
    "import plotly.express as px\n",
    "from plotly.subplots import make_subplots\n",
    "\n",
    "CollegeScorecard_df_raw = pd.read_csv(\"generated_data/ScorecardData.csv\")\n",
    "scard_df = CollegeScorecard_df_raw.copy()\n",
    "scard_df = scard_df.rename(\n",
    "    columns={\n",
    "        \"student.size\": \"size\",\n",
    "        \"cost.tuition.in_state\": \"in_state_tuition\",\n",
    "        \"cost.tuition.out_of_state\": \"out_state_tuition\",\n",
    "        \"cost.avg_net_price.public\": \"public_net_price\",\n",
    "        \"cost.avg_net_price.private\": \"private_net_price\",\n",
    "        \"id\": \"ipeds_id\",\n",
    "        \"school.name\": \"name\",\n",
    "        \"school.carnegie_size_setting\": \"size_setting\",\n",
    "        \"school.zip\": \"zip\",\n",
    "        \"school.state_fips\": \"state_fips\",\n",
    "        \"school.region_id\": \"region_id\",\n",
    "        \"school.locale\": \"locale\",\n",
    "        \"school.ownership\": \"ownership\"\n",
    "    }\n",
    ")\n",
    "\n",
    "scard_df[\"net_cost\"] = scard_df.apply(lambda row: \n",
    "            row[\"public_net_price\"] if (row[\"ownership\"] == 1) else row[\"private_net_price\"],\n",
    "        axis=1\n",
    ")\n",
    "\n",
    "\n",
    "usn_college_data = pd.read_csv(\"source_data/usnews_stripped.csv\")\n",
    "usn_top_100 = (usn_college_data[usn_college_data[\"2023\"] < 100])[[\"University Name\",\"IPEDS ID\", \"2023\"]]\n",
    "scard_df"
   ]
  },
  {
   "cell_type": "code",
   "execution_count": null,
   "metadata": {},
   "outputs": [],
   "source": [
    "recent_sample = scard_df[scard_df[\"year\"] == 2019].copy()\n",
    "print(recent_sample[\"name\"].sort_values().to_numpy())"
   ]
  },
  {
   "cell_type": "code",
   "execution_count": null,
   "metadata": {},
   "outputs": [],
   "source": [
    "desired_counties = [\n",
    "    \"001\", \"081\", \"309\", \"007\", \"017\", \"025\", \"017\", \"049\", \"044\", \"037\",\n",
    "    \"003\", \"035\", \"027\", \"077\", \"059\", \"061\", \"109\", \"009\", \"063\", \"001\", \n",
    "    \"121\", \"073\", \"005\", \"001\", \"001\", \"121\", \"063\", \"017\", \"001\", \"105\", \n",
    "    \"510\", \"077\", \"037\", \"079\", \"017\", \"037\", \"013\", \"061\", \"183\", \n",
    "    \"025\", \"031\", \"055\", \"037\", \"021\", \"157\", \"083\", \"201\", \"023\", \n",
    "    \"085\", \"113\", \"085\", \"017\", \"103\", \"067\", \"041\", \"439\", \"453\", \n",
    "    \"017\", \"071\", \"029\", \"001\", \"113\", \"059\", \"037\", \"047\", \"065\", \"073\", \n",
    "    \"083\", \"087\", \"031\", \"013\", \"013\", \"003\", \"001\", \"059\", \"031\", \"019\", \"103\",\n",
    "    \"033\", \"015\", \"086\", \"161\", \"053\", \"063\", \"141\",\n",
    "    \"101\", \"003\", \"055\", \"073\", \"057\", \"037\", \"540\",\n",
    "    \"033\", \"025\", \"037\", \"045\", \"121\", \"067\", \"510\",\n",
    "    \"830\", \"047\", \"009\", \"061\"]\n",
    "unis = recent_sample[\"name\"].to_list()\n",
    "uni_county_pairs = list(zip(unis, desired_counties))\n",
    "\n",
    "uni_county_mapping = {uni: county for (uni, county) in uni_county_pairs}\n",
    "print(uni_county_mapping)"
   ]
  },
  {
   "cell_type": "code",
   "execution_count": null,
   "metadata": {},
   "outputs": [],
   "source": [
    "scard_df[\"county_fips\"] = scard_df.apply(lambda row: \n",
    "            uni_county_mapping[row[\"name\"]],\n",
    "        axis=1\n",
    ")\n",
    "print(scard_df[\"county_fips\"].to_string())"
   ]
  }
 ],
 "metadata": {
  "kernelspec": {
   "display_name": "base",
   "language": "python",
   "name": "python3"
  },
  "language_info": {
   "codemirror_mode": {
    "name": "ipython",
    "version": 3
   },
   "file_extension": ".py",
   "mimetype": "text/x-python",
   "name": "python",
   "nbconvert_exporter": "python",
   "pygments_lexer": "ipython3",
   "version": "3.7.0"
  }
 },
 "nbformat": 4,
 "nbformat_minor": 2
}
